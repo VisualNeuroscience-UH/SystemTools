{
 "cells": [
  {
   "cell_type": "markdown",
   "id": "2b3501fd-d556-4485-bcc3-214b14c08fed",
   "metadata": {},
   "source": [
    "#### Imports"
   ]
  },
  {
   "cell_type": "code",
   "execution_count": 1,
   "id": "86f04be2-e58e-4d1b-9d14-4c864df839f6",
   "metadata": {},
   "outputs": [
    {
     "name": "stdout",
     "output_type": "stream",
     "text": [
      "Added /opt2/Git_Repos/SystemTools to system path\n"
     ]
    }
   ],
   "source": [
    "# Visualization\n",
    "import matplotlib.pyplot as plt\n",
    "\n",
    "# Builtin\n",
    "from pathlib import Path\n",
    "import sys\n",
    "from math import nan\n",
    "from itertools import islice\n",
    "import subprocess\n",
    "import shutil\n",
    "import os\n",
    "import pdb\n",
    "\n",
    "\n",
    "# Add repo path to system path for additional imports. \n",
    "# Note the relative depth from this notebook to system repo\n",
    "# in case you want to move this file\n",
    "\n",
    "nb_path = str(Path(os.path.abspath('')).parent.parent)\n",
    "sys.path.insert(0, nb_path)\n",
    "print(f'Added {nb_path} to system path')\n",
    "\n",
    "# This computer git repos\n",
    "from project.project_manager_module import ProjectManager"
   ]
  },
  {
   "cell_type": "markdown",
   "id": "afa393cc-b74c-4377-9076-35507311bdcc",
   "metadata": {},
   "source": [
    "#### Build paths"
   ]
  },
  {
   "cell_type": "code",
   "execution_count": 2,
   "id": "0ccb8a4c-a717-4932-a638-af9e0450bd27",
   "metadata": {},
   "outputs": [],
   "source": [
    "root_path = r\"/opt2/Git_Repos/SystemTools/scripts/\"\n",
    "project = \"FCN22\"  \n",
    "experiment = \"Figure1\"  \n",
    "path = Path.joinpath(Path(root_path), Path(project), experiment)"
   ]
  },
  {
   "cell_type": "markdown",
   "id": "e414500b-113d-4cfc-82a2-d8e0b235ec78",
   "metadata": {},
   "source": [
    "#### Input context"
   ]
  },
  {
   "cell_type": "code",
   "execution_count": 3,
   "id": "3b5104da-92be-473d-a963-fd3812c6c8ed",
   "metadata": {},
   "outputs": [],
   "source": [
    "input_folder = \"in\"\n",
    "matlab_workspace_file = \"workspace_deneve_SingleSpike.mat\"\n",
    "conn_skeleton_file_in = \"Replica_skeleton_connections_20210211_1453238_L4_SS.gz\"\n",
    "conn_file_out = \"connections_SingleSpike_ci.gz\"\n",
    "input_filename = \"noise_210406_SingleSpike.mat\"  \n",
    "start_point_csv_folder = \"start_point_csvs/LIF\""
   ]
  },
  {
   "cell_type": "markdown",
   "id": "b4a1aa76-ec04-471e-85fc-8250ec0f376e",
   "metadata": {},
   "source": [
    "#### Data context for single files and arrays \n",
    "These midpoint and parameter strings are used only in this module.\n",
    "The output_folder will be created under experiment"
   ]
  },
  {
   "cell_type": "code",
   "execution_count": 4,
   "id": "89e98e75-ce7c-4567-b6a5-4a8cfe02b3bd",
   "metadata": {},
   "outputs": [
    {
     "data": {
      "text/plain": [
       "'/opt2/Git_Repos/SystemTools/scripts/FCN22/Figure1/Phys_Comrad_221122_midpoint.csv'"
      ]
     },
     "execution_count": 4,
     "metadata": {},
     "output_type": "execute_result"
    }
   ],
   "source": [
    "midpoint = \"Comrad\"  # HiFi, Comrad, Bacon\n",
    "parameter = \"midpoint\"\n",
    "output_folder = f\"{midpoint}_{parameter}\"\n",
    "anat_file = f\"Anat_{midpoint}_221122_{parameter}.csv\"\n",
    "phys_file = f\"Phys_{midpoint}_221122_{parameter}.csv\"\n",
    "anat_file_fullpath = Path.joinpath(Path(start_point_csv_folder), anat_file)\n",
    "phys_file_fullpath = Path.joinpath(Path(start_point_csv_folder), phys_file)\n",
    "shutil.copy(anat_file_fullpath,path)\n",
    "shutil.copy(phys_file_fullpath,path)"
   ]
  },
  {
   "cell_type": "markdown",
   "id": "fec35a64-d412-4834-8472-5474a9740241",
   "metadata": {},
   "source": [
    "#### Analysis context\n",
    "t_idx_start cuts the beginning and t_idx_end the end of time samples. Use 0, None or integer btw [0 N_time_samples]. If negative, will count from the end.\n",
    "NG_output is the output neuron group [number_layer_group_subgroup]"
   ]
  },
  {
   "cell_type": "code",
   "execution_count": 5,
   "id": "67aab9b9-0eb4-4fcb-9747-8f7121f74adf",
   "metadata": {},
   "outputs": [],
   "source": [
    "t_idx_start = 2000\n",
    "t_idx_end = -2000\n",
    "NG_output = \"NG3_L4_SS_L4\""
   ]
  },
  {
   "cell_type": "markdown",
   "id": "bd692bff-e31c-4570-80cc-acda5c536d6f",
   "metadata": {},
   "source": [
    "#### Call project manager\n",
    "Code complexity is hidden behind the ProjectManager"
   ]
  },
  {
   "cell_type": "code",
   "execution_count": 6,
   "id": "e96fe18a-9597-4bae-97f8-a2da1e631d57",
   "metadata": {},
   "outputs": [
    {
     "name": "stdout",
     "output_type": "stream",
     "text": [
      "No to_mpa_dict in conf file. Only one file will be processed.\n"
     ]
    }
   ],
   "source": [
    "PM = ProjectManager(\n",
    "    path=path,\n",
    "    input_folder=input_folder,\n",
    "    output_folder=output_folder,\n",
    "    matlab_workspace_file=matlab_workspace_file,\n",
    "    conn_skeleton_file_in=conn_skeleton_file_in,\n",
    "    conn_file_out=conn_file_out,\n",
    "    input_filename=input_filename,\n",
    "    NG_name=NG_output,\n",
    "    t_idx_start=t_idx_start,\n",
    "    t_idx_end=t_idx_end,\n",
    "    project=project,\n",
    "    experiment=experiment,\n",
    ")"
   ]
  },
  {
   "cell_type": "markdown",
   "id": "82e9bc78-33ef-46b7-90fc-867e00abf4bb",
   "metadata": {},
   "source": [
    "#### Copy csv start point files to experiment folder"
   ]
  },
  {
   "cell_type": "markdown",
   "id": "eb11f132-4c51-48da-bf6a-e60b60ecd55a",
   "metadata": {},
   "source": [
    "#### Run CxSystem2 for single file\n",
    "TÄHÄN JÄIT. TEE PM UTILS TMS AUTOMAATTIMUUNNIN ALLA OLEVILLE.\n",
    "You need the project path and output folder set to anat file\n",
    "You need the in-path and file name set correctly to phys file"
   ]
  },
  {
   "cell_type": "code",
   "execution_count": null,
   "id": "0bf3afbc-18a4-4612-9ab0-a500ea03bc16",
   "metadata": {},
   "outputs": [],
   "source": [
    "command_and_args = [\n",
    "    \"cxsystem2\", \n",
    "    \"-a\", \n",
    "    str(ana_file_fullpath), \n",
    "    \"-p\", \n",
    "    str(phys_file_fullpath)\n",
    "]\n",
    "\n",
    "subprocess.run(command_and_args, text=True, encoding=\"utf-8\")"
   ]
  },
  {
   "cell_type": "markdown",
   "id": "078c7fb5-b9e0-4dc8-9c1c-591df47f95eb",
   "metadata": {},
   "source": [
    "### Analyze and visualize the results for single files"
   ]
  },
  {
   "cell_type": "markdown",
   "id": "d0e0f8c1-0ab3-4c7b-9055-7cef0e60ba50",
   "metadata": {},
   "source": [
    "#### Show input and data. \n",
    "If  file_to_display = None, the function selects the most recent data file in output_folder.\n"
   ]
  },
  {
   "cell_type": "code",
   "execution_count": null,
   "id": "6f6fae18-f33b-4a37-90e4-59a2c2561a8b",
   "metadata": {},
   "outputs": [],
   "source": [
    "# file_to_display = r\"[your/full/path/to/datafile].gz\"  \n",
    "file_to_display = None # Most recent\n",
    "\n",
    "PM.viz.show_readout_on_input(\n",
    "    results_filename=file_to_display, \n",
    "    normalize=False, \n",
    "    unit_idx_list=[0], \n",
    "    savefigname=''\n",
    ")"
   ]
  },
  {
   "cell_type": "markdown",
   "id": "6e183422-4755-47fe-afd6-f9e56ea58c2e",
   "metadata": {},
   "source": [
    "Best possible outputsignal, given the leaky spikes in the readout group"
   ]
  },
  {
   "cell_type": "code",
   "execution_count": null,
   "id": "850eb51d-f101-4503-afb6-a987dbff90d4",
   "metadata": {},
   "outputs": [],
   "source": [
    "PM.viz.show_estimate_on_input(\n",
    "    results_filename=file_to_display, \n",
    "    simulation_engine='cxsystem', \n",
    "    readout_group='E', \n",
    "    unit_idx_list=[2]) # Simulation engines: 'cxsystem'. Readout_groups 'E','I'."
   ]
  },
  {
   "cell_type": "code",
   "execution_count": null,
   "id": "543f8f5a-273e-4a38-ad48-afbfae8745af",
   "metadata": {},
   "outputs": [],
   "source": [
    "PM.viz.show_input_to_readout_coherence(\n",
    "    results_filename=file_to_display, \n",
    "    savefigname='',\n",
    "    signal_pair=[0,0]) "
   ]
  },
  {
   "cell_type": "markdown",
   "id": "901ab310-79cf-4b45-bd22-c3610f640c6e",
   "metadata": {},
   "source": [
    "### Show spikes"
   ]
  },
  {
   "cell_type": "code",
   "execution_count": null,
   "id": "abfd3bbd-34b1-4640-9a0c-ec924ebfc258",
   "metadata": {},
   "outputs": [],
   "source": [
    "PM.viz.show_spikes(results_filename=file_to_display, savefigname='')"
   ]
  },
  {
   "cell_type": "markdown",
   "id": "cd8df482-0336-4c1b-aaa9-8339069bd0c5",
   "metadata": {},
   "source": [
    "### Show membrane voltage"
   ]
  },
  {
   "cell_type": "code",
   "execution_count": null,
   "id": "98f09daa-c4e5-466c-a54b-286fec99bfb0",
   "metadata": {},
   "outputs": [],
   "source": [
    "neuron_index = {\"NG3_L4_SS_L4\": [0, 1, 2]} # Only three neurons are monitored\n",
    "PM.viz.show_analog_results(\n",
    "    results_filename=file_to_display,\n",
    "    savefigname=\"\",\n",
    "    param_name=\"vm\",\n",
    "    startswith=\"NG3\",\n",
    "    neuron_index=neuron_index,\n",
    ")"
   ]
  },
  {
   "cell_type": "markdown",
   "id": "bd7a6ce1-cfb2-4bf6-898d-e6226453d970",
   "metadata": {},
   "source": [
    "### Show adaptation current"
   ]
  },
  {
   "cell_type": "code",
   "execution_count": null,
   "id": "cc59900e-b2a2-4ccb-b39c-0a41e355e5d3",
   "metadata": {},
   "outputs": [],
   "source": [
    "PM.viz.show_analog_results(\n",
    "    results_filename=file_to_display,\n",
    "    savefigname=\"\",\n",
    "    param_name=\"w\",\n",
    "    startswith=\"NG2\",\n",
    "    neuron_index=neuron_index,\n",
    ")"
   ]
  }
 ],
 "metadata": {
  "kernelspec": {
   "display_name": "Python 3 (ipykernel)",
   "language": "python",
   "name": "python3"
  },
  "language_info": {
   "codemirror_mode": {
    "name": "ipython",
    "version": 3
   },
   "file_extension": ".py",
   "mimetype": "text/x-python",
   "name": "python",
   "nbconvert_exporter": "python",
   "pygments_lexer": "ipython3",
   "version": "3.10.8"
  }
 },
 "nbformat": 4,
 "nbformat_minor": 5
}
