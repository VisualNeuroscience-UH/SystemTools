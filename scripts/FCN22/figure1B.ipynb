{
 "cells": [
  {
   "cell_type": "markdown",
   "id": "2b3501fd-d556-4485-bcc3-214b14c08fed",
   "metadata": {},
   "source": [
    "#### Imports"
   ]
  },
  {
   "cell_type": "code",
   "execution_count": null,
   "id": "86f04be2-e58e-4d1b-9d14-4c864df839f6",
   "metadata": {},
   "outputs": [],
   "source": [
    "# Visualization\n",
    "import matplotlib.pyplot as plt\n",
    "\n",
    "# Builtin\n",
    "from pathlib import Path\n",
    "import sys\n",
    "from math import nan\n",
    "from itertools import islice\n",
    "import subprocess\n",
    "import shutil\n",
    "import os\n",
    "import pdb\n",
    "\n",
    "\n",
    "# Add repo path to system path for additional imports. \n",
    "# Note the relative depth from this notebook to system repo\n",
    "# in case you want to move this file\n",
    "\n",
    "nb_path = str(Path(os.path.abspath('')).parent.parent)\n",
    "sys.path.insert(0, nb_path)\n",
    "print(f'Added {nb_path} to system path')\n",
    "\n",
    "# This computer git repos\n",
    "from project.project_manager_module import ProjectManager"
   ]
  },
  {
   "cell_type": "markdown",
   "id": "afa393cc-b74c-4377-9076-35507311bdcc",
   "metadata": {},
   "source": [
    "#### Build paths"
   ]
  },
  {
   "cell_type": "code",
   "execution_count": null,
   "id": "0ccb8a4c-a717-4932-a638-af9e0450bd27",
   "metadata": {},
   "outputs": [],
   "source": [
    "#root_path = r\"/opt2/Git_Repos/SystemTools/scripts/\"\n",
    "root_path = r\"C:\\Users\\Simo\\Laskenta\\Git_Repos\\SystemTools\\scripts/\"\n",
    "project = \"FCN22\"  \n",
    "experiment = \"Figure1B\"  \n",
    "experiment_path = Path.joinpath(Path(root_path), Path(project), experiment)"
   ]
  },
  {
   "cell_type": "markdown",
   "id": "e414500b-113d-4cfc-82a2-d8e0b235ec78",
   "metadata": {},
   "source": [
    "#### Input context"
   ]
  },
  {
   "cell_type": "code",
   "execution_count": null,
   "id": "3b5104da-92be-473d-a963-fd3812c6c8ed",
   "metadata": {},
   "outputs": [],
   "source": [
    "input_folder = \"../in\" # Relative to experiment path\n",
    "matlab_workspace_file = \"matlab_workspace_SingleSpike.mat\"\n",
    "conn_skeleton_file_in = \"Replica_skeleton_connections_20210211_1453238_L4_SS.gz\"\n",
    "conn_file_out = \"connections_SingleSpike_ci.gz\"\n",
    "input_filename = \"input_quadratic_three_units_2s_SingleSpike.mat\"  \n",
    "startpoint_csv_folder = \"startpoint_csvs/LIF\""
   ]
  },
  {
   "cell_type": "markdown",
   "id": "b4a1aa76-ec04-471e-85fc-8250ec0f376e",
   "metadata": {},
   "source": [
    "#### Data context for single files and arrays \n",
    "These startpoint and parameter strings are used only in this module.\n",
    "The output_folder will be created under experiment"
   ]
  },
  {
   "cell_type": "code",
   "execution_count": null,
   "id": "92d0a504-2d6a-4f9b-a492-39aa34c631d0",
   "metadata": {},
   "outputs": [],
   "source": [
    "startpoint = \"Comrad\"  # HiFi, Comrad, Bacon\n",
    "parameter = \"sinewave\"\n",
    "output_folder = f\"{startpoint}_{parameter}\""
   ]
  },
  {
   "cell_type": "markdown",
   "id": "bd692bff-e31c-4570-80cc-acda5c536d6f",
   "metadata": {},
   "source": [
    "#### Call project manager\n",
    "Code complexity is hidden behind the ProjectManager"
   ]
  },
  {
   "cell_type": "code",
   "execution_count": null,
   "id": "e96fe18a-9597-4bae-97f8-a2da1e631d57",
   "metadata": {},
   "outputs": [],
   "source": [
    "PM = ProjectManager(\n",
    "    path=experiment_path,\n",
    "    input_folder=input_folder,\n",
    "    output_folder=output_folder,\n",
    "    matlab_workspace_file=matlab_workspace_file,\n",
    "    conn_skeleton_file_in=conn_skeleton_file_in,\n",
    "    conn_file_out=conn_file_out,\n",
    "    input_filename=input_filename,\n",
    "    NG_name=\"NG3_L4_SS_L4\",\n",
    "    t_idx_start=2000,\n",
    "    t_idx_end=-2000,\n",
    "    project=project,\n",
    "    experiment=experiment,\n",
    "    startpoint_csv_folder=startpoint_csv_folder,\n",
    ")"
   ]
  },
  {
   "cell_type": "markdown",
   "id": "44ab79c3-1048-4f53-96ed-f172358e6ab6",
   "metadata": {},
   "source": [
    "#### Copy Anat and Phys csv files from start point folder to path and update paths into the csv:s"
   ]
  },
  {
   "cell_type": "code",
   "execution_count": null,
   "id": "950eca21-f5da-491f-a2e7-52c3d4b8490a",
   "metadata": {},
   "outputs": [],
   "source": [
    "anat_file_fullpath_out , phys_file_fullpath_out = PM.prepare_csvs_for_simulation()"
   ]
  },
  {
   "cell_type": "markdown",
   "id": "3b88c014-8fd9-4bdd-8867-dd86126604fe",
   "metadata": {},
   "source": [
    "#### Create necessary current injection files"
   ]
  },
  {
   "cell_type": "code",
   "execution_count": null,
   "id": "998fd88a-e3f6-49ad-a746-e27c66fea659",
   "metadata": {},
   "outputs": [],
   "source": [
    "PM.ct.create_current_injection(randomize=False)"
   ]
  },
  {
   "cell_type": "markdown",
   "id": "eb11f132-4c51-48da-bf6a-e60b60ecd55a",
   "metadata": {},
   "source": [
    "#### Run CxSystem2 for single file"
   ]
  },
  {
   "cell_type": "code",
   "execution_count": null,
   "id": "0bf3afbc-18a4-4612-9ab0-a500ea03bc16",
   "metadata": {},
   "outputs": [],
   "source": [
    "command_and_args = [\n",
    "    \"cxsystem2\", \n",
    "    \"-a\", \n",
    "    str(anat_file_fullpath_out), \n",
    "    \"-p\", \n",
    "    str(phys_file_fullpath_out)\n",
    "]\n",
    "\n",
    "subprocess.run(command_and_args, text=True, encoding=\"utf-8\")"
   ]
  },
  {
   "cell_type": "markdown",
   "id": "078c7fb5-b9e0-4dc8-9c1c-591df47f95eb",
   "metadata": {},
   "source": [
    "### Analyze and visualize the results for single files"
   ]
  },
  {
   "cell_type": "markdown",
   "id": "d0e0f8c1-0ab3-4c7b-9055-7cef0e60ba50",
   "metadata": {},
   "source": [
    "#### Show input and data. \n",
    "If  file_to_display = None, the function selects the most recent data file in output_folder.\n"
   ]
  },
  {
   "cell_type": "code",
   "execution_count": null,
   "id": "6f6fae18-f33b-4a37-90e4-59a2c2561a8b",
   "metadata": {},
   "outputs": [],
   "source": [
    "# file_to_display = r\"[your/full/path/to/datafile].gz\"  \n",
    "file_to_display = None # Most recent\n",
    "\n",
    "PM.viz.show_readout_on_input(\n",
    "    results_filename=file_to_display, \n",
    "    normalize=False, \n",
    "    unit_idx_list=[0], \n",
    "    savefigname='Fig1B.eps'\n",
    ")"
   ]
  }
 ],
 "metadata": {
  "kernelspec": {
   "display_name": "Python 3 (ipykernel)",
   "language": "python",
   "name": "python3"
  },
  "language_info": {
   "codemirror_mode": {
    "name": "ipython",
    "version": 3
   },
   "file_extension": ".py",
   "mimetype": "text/x-python",
   "name": "python",
   "nbconvert_exporter": "python",
   "pygments_lexer": "ipython3",
   "version": "3.10.8"
  }
 },
 "nbformat": 4,
 "nbformat_minor": 5
}
