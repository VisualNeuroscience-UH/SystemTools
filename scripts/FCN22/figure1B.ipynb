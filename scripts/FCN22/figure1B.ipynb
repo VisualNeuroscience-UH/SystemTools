{
 "cells": [
  {
   "cell_type": "markdown",
   "id": "2b3501fd-d556-4485-bcc3-214b14c08fed",
   "metadata": {},
   "source": [
    "#### Imports"
   ]
  },
  {
   "cell_type": "code",
   "execution_count": 1,
   "id": "86f04be2-e58e-4d1b-9d14-4c864df839f6",
   "metadata": {
    "jupyter": {
     "source_hidden": true
    },
    "tags": []
   },
   "outputs": [
    {
     "name": "stdout",
     "output_type": "stream",
     "text": [
      "Added C:\\Users\\Simo\\Laskenta\\Git_Repos\\SystemTools to system path\n"
     ]
    }
   ],
   "source": [
    "# Visualization\n",
    "import matplotlib.pyplot as plt\n",
    "\n",
    "# Builtin\n",
    "from pathlib import Path\n",
    "import sys\n",
    "import subprocess\n",
    "import os\n",
    "import pdb\n",
    "\n",
    "# Add repo path to system path for additional imports. \n",
    "# Note the relative depth from this notebook to system repo\n",
    "# in case you want to move this file\n",
    "\n",
    "nb_path = str(Path(os.path.abspath('')).parent.parent)\n",
    "sys.path.insert(0, nb_path)\n",
    "print(f'Added {nb_path} to system path')\n",
    "\n",
    "# This computer git repos\n",
    "from project.project_manager_module import ProjectManager"
   ]
  },
  {
   "cell_type": "markdown",
   "id": "afa393cc-b74c-4377-9076-35507311bdcc",
   "metadata": {},
   "source": [
    "#### Build paths\n",
    "<font color=red>**Set the root_path to your SystemTools/scripts**</font>"
   ]
  },
  {
   "cell_type": "code",
   "execution_count": 2,
   "id": "7cd33808-09a0-4906-824a-b2679b472a8d",
   "metadata": {},
   "outputs": [],
   "source": [
    "#root_path = r\"/opt2/Git_Repos/SystemTools/scripts/\"\n",
    "root_path = r\"C:\\Users\\Simo\\Laskenta\\Git_Repos\\SystemTools\\scripts/\""
   ]
  },
  {
   "cell_type": "code",
   "execution_count": 3,
   "id": "4ad5248d-28ec-4734-8be0-9fec32addb80",
   "metadata": {
    "jupyter": {
     "source_hidden": true
    },
    "tags": []
   },
   "outputs": [],
   "source": [
    "project = \"FCN22\"  \n",
    "experiment = \"Figure1B\"  \n",
    "experiment_path = Path.joinpath(Path(root_path), Path(project), experiment)"
   ]
  },
  {
   "cell_type": "markdown",
   "id": "bd692bff-e31c-4570-80cc-acda5c536d6f",
   "metadata": {},
   "source": [
    "#### Call project manager\n",
    "Code complexity is hidden behind the ProjectManager"
   ]
  },
  {
   "cell_type": "code",
   "execution_count": 4,
   "id": "e96fe18a-9597-4bae-97f8-a2da1e631d57",
   "metadata": {
    "jupyter": {
     "source_hidden": true
    },
    "tags": []
   },
   "outputs": [],
   "source": [
    "PM = ProjectManager(\n",
    "    path=experiment_path,\n",
    "    input_folder=\"../in\",\n",
    "    output_folder=\"Comrad_sinewave\",\n",
    "    matlab_workspace_file=\"matlab_workspace_SingleSpike.mat\",\n",
    "    conn_skeleton_file_in=\"\",\n",
    "    conn_file_out=\"\",\n",
    "    input_filename=\"input_quadratic_three_units_2s_SingleSpike.mat\",\n",
    "    NG_name=\"NG3_L4_SS_L4\",\n",
    "    t_idx_start=2000,\n",
    "    t_idx_end=-2000,\n",
    "    project=project,\n",
    "    experiment=experiment,\n",
    "    startpoint_csv_folder=\"startpoint_csvs/LIF\",\n",
    ")"
   ]
  },
  {
   "cell_type": "markdown",
   "id": "44ab79c3-1048-4f53-96ed-f172358e6ab6",
   "metadata": {},
   "source": [
    "#### Copy Anat and Phys csv files from start point folder to path and update paths into the csv:s"
   ]
  },
  {
   "cell_type": "code",
   "execution_count": 5,
   "id": "950eca21-f5da-491f-a2e7-52c3d4b8490a",
   "metadata": {
    "jupyter": {
     "source_hidden": true
    },
    "tags": []
   },
   "outputs": [],
   "source": [
    "anat_file_fullpath_out , phys_file_fullpath_out = PM.prepare_csvs_for_simulation()"
   ]
  },
  {
   "cell_type": "markdown",
   "id": "3b88c014-8fd9-4bdd-8867-dd86126604fe",
   "metadata": {},
   "source": [
    "#### Create necessary current injection files"
   ]
  },
  {
   "cell_type": "code",
   "execution_count": 6,
   "id": "998fd88a-e3f6-49ad-a746-e27c66fea659",
   "metadata": {
    "jupyter": {
     "source_hidden": true
    },
    "tags": []
   },
   "outputs": [],
   "source": [
    "PM.ct.create_current_injection(randomize=False)"
   ]
  },
  {
   "cell_type": "markdown",
   "id": "eb11f132-4c51-48da-bf6a-e60b60ecd55a",
   "metadata": {},
   "source": [
    "#### Run CxSystem2 for single file"
   ]
  },
  {
   "cell_type": "code",
   "execution_count": null,
   "id": "0bf3afbc-18a4-4612-9ab0-a500ea03bc16",
   "metadata": {
    "tags": []
   },
   "outputs": [
    {
     "name": "stdout",
     "output_type": "stream",
     "text": [
      "--Return--\n",
      "None\n",
      "> \u001b[1;32mc:\\users\\simo\\appdata\\local\\temp\\ipykernel_19740\\805366902.py\u001b[0m(2)\u001b[0;36m<module>\u001b[1;34m()\u001b[0m\n",
      "\n"
     ]
    },
    {
     "name": "stdin",
     "output_type": "stream",
     "text": [
      "ipdb>  command_and_args\n"
     ]
    },
    {
     "name": "stdout",
     "output_type": "stream",
     "text": [
      "['cxsystem2', '-a', 'C:\\\\Users\\\\Simo\\\\Laskenta\\\\Git_Repos\\\\SystemTools\\\\scripts\\\\FCN22\\\\Figure1B\\\\Anat_Comrad_221122_sinewave.csv', '-p', 'C:\\\\Users\\\\Simo\\\\Laskenta\\\\Git_Repos\\\\SystemTools\\\\scripts\\\\FCN22\\\\Figure1B\\\\Phys_Comrad_221122_sinewave.csv']\n"
     ]
    },
    {
     "name": "stdin",
     "output_type": "stream",
     "text": [
      "ipdb>  Path.is_file(Path(command_and_args[2]))\n"
     ]
    },
    {
     "name": "stdout",
     "output_type": "stream",
     "text": [
      "True\n"
     ]
    },
    {
     "name": "stdin",
     "output_type": "stream",
     "text": [
      "ipdb>  Path.is_file(Path(command_and_args[4]))\n"
     ]
    },
    {
     "name": "stdout",
     "output_type": "stream",
     "text": [
      "True\n"
     ]
    },
    {
     "name": "stdin",
     "output_type": "stream",
     "text": [
      "ipdb>  pwd\n"
     ]
    },
    {
     "name": "stdout",
     "output_type": "stream",
     "text": [
      "*** NameError: name 'pwd' is not defined\n"
     ]
    },
    {
     "name": "stdin",
     "output_type": "stream",
     "text": [
      "ipdb>  import os\n",
      "ipdb>  os.getcwd()\n"
     ]
    },
    {
     "name": "stdout",
     "output_type": "stream",
     "text": [
      "'C:\\\\Users\\\\Simo\\\\Laskenta\\\\Git_Repos\\\\SystemTools\\\\scripts\\\\FCN22'\n"
     ]
    },
    {
     "name": "stdin",
     "output_type": "stream",
     "text": [
      "ipdb>  ls\n"
     ]
    },
    {
     "name": "stdout",
     "output_type": "stream",
     "text": [
      "*** NameError: name 'ls' is not defined\n"
     ]
    },
    {
     "name": "stdin",
     "output_type": "stream",
     "text": [
      "ipdb>  dir\n"
     ]
    },
    {
     "name": "stdout",
     "output_type": "stream",
     "text": [
      "<built-in function dir>\n"
     ]
    },
    {
     "name": "stdin",
     "output_type": "stream",
     "text": [
      "ipdb>  dir()\n"
     ]
    },
    {
     "name": "stdout",
     "output_type": "stream",
     "text": [
      "['In', 'Out', 'PM', 'Path', 'ProjectManager', '_', '__', '___', '__builtin__', '__builtins__', '__doc__', '__loader__', '__name__', '__package__', '__return__', '__spec__', '_dh', '_i', '_i1', '_i2', '_i3', '_i4', '_i5', '_i6', '_i7', '_ih', '_ii', '_iii', '_oh', 'anat_file_fullpath_out', 'command_and_args', 'exit', 'experiment', 'experiment_path', 'get_ipython', 'nb_path', 'open', 'os', 'pdb', 'phys_file_fullpath_out', 'plt', 'project', 'quit', 'root_path', 'subprocess', 'sys']\n"
     ]
    },
    {
     "name": "stdin",
     "output_type": "stream",
     "text": [
      "ipdb>  locals()\n"
     ]
    },
    {
     "name": "stdout",
     "output_type": "stream",
     "text": [
      "{'__name__': '__main__', '__doc__': 'Automatically created module for IPython interactive environment', '__package__': None, '__loader__': None, '__spec__': None, '__builtin__': <module 'builtins' (built-in)>, '__builtins__': <module 'builtins' (built-in)>, '_ih': ['', \"# Visualization\\nimport matplotlib.pyplot as plt\\n\\n# Builtin\\nfrom pathlib import Path\\nimport sys\\nimport subprocess\\nimport os\\nimport pdb\\n\\n# Add repo path to system path for additional imports. \\n# Note the relative depth from this notebook to system repo\\n# in case you want to move this file\\n\\nnb_path = str(Path(os.path.abspath('')).parent.parent)\\nsys.path.insert(0, nb_path)\\nprint(f'Added {nb_path} to system path')\\n\\n# This computer git repos\\nfrom project.project_manager_module import ProjectManager\", '#root_path = r\"/opt2/Git_Repos/SystemTools/scripts/\"\\nroot_path = r\"C:\\\\Users\\\\Simo\\\\Laskenta\\\\Git_Repos\\\\SystemTools\\\\scripts/\"', 'project = \"FCN22\"  \\nexperiment = \"Figure1B\"  \\nexperiment_path = Path.joinpath(Path(root_path), Path(project), experiment)', 'PM = ProjectManager(\\n    path=experiment_path,\\n    input_folder=\"../in\",\\n    output_folder=\"Comrad_sinewave\",\\n    matlab_workspace_file=\"matlab_workspace_SingleSpike.mat\",\\n    conn_skeleton_file_in=\"\",\\n    conn_file_out=\"\",\\n    input_filename=\"input_quadratic_three_units_2s_SingleSpike.mat\",\\n    NG_name=\"NG3_L4_SS_L4\",\\n    t_idx_start=2000,\\n    t_idx_end=-2000,\\n    project=project,\\n    experiment=experiment,\\n    startpoint_csv_folder=\"startpoint_csvs/LIF\",\\n)', 'anat_file_fullpath_out , phys_file_fullpath_out = PM.prepare_csvs_for_simulation()', 'PM.ct.create_current_injection(randomize=False)', 'command_and_args = [\"cxsystem2\", \"-a\", str(anat_file_fullpath_out), \"-p\", str(phys_file_fullpath_out)]\\npdb.set_trace()\\nsubprocess.run(command_and_args, text=True, encoding=\"utf-8\")'], '_oh': {}, '_dh': [WindowsPath('C:/Users/Simo/Laskenta/Git_Repos/SystemTools/scripts/FCN22')], 'In': ['', \"# Visualization\\nimport matplotlib.pyplot as plt\\n\\n# Builtin\\nfrom pathlib import Path\\nimport sys\\nimport subprocess\\nimport os\\nimport pdb\\n\\n# Add repo path to system path for additional imports. \\n# Note the relative depth from this notebook to system repo\\n# in case you want to move this file\\n\\nnb_path = str(Path(os.path.abspath('')).parent.parent)\\nsys.path.insert(0, nb_path)\\nprint(f'Added {nb_path} to system path')\\n\\n# This computer git repos\\nfrom project.project_manager_module import ProjectManager\", '#root_path = r\"/opt2/Git_Repos/SystemTools/scripts/\"\\nroot_path = r\"C:\\\\Users\\\\Simo\\\\Laskenta\\\\Git_Repos\\\\SystemTools\\\\scripts/\"', 'project = \"FCN22\"  \\nexperiment = \"Figure1B\"  \\nexperiment_path = Path.joinpath(Path(root_path), Path(project), experiment)', 'PM = ProjectManager(\\n    path=experiment_path,\\n    input_folder=\"../in\",\\n    output_folder=\"Comrad_sinewave\",\\n    matlab_workspace_file=\"matlab_workspace_SingleSpike.mat\",\\n    conn_skeleton_file_in=\"\",\\n    conn_file_out=\"\",\\n    input_filename=\"input_quadratic_three_units_2s_SingleSpike.mat\",\\n    NG_name=\"NG3_L4_SS_L4\",\\n    t_idx_start=2000,\\n    t_idx_end=-2000,\\n    project=project,\\n    experiment=experiment,\\n    startpoint_csv_folder=\"startpoint_csvs/LIF\",\\n)', 'anat_file_fullpath_out , phys_file_fullpath_out = PM.prepare_csvs_for_simulation()', 'PM.ct.create_current_injection(randomize=False)', 'command_and_args = [\"cxsystem2\", \"-a\", str(anat_file_fullpath_out), \"-p\", str(phys_file_fullpath_out)]\\npdb.set_trace()\\nsubprocess.run(command_and_args, text=True, encoding=\"utf-8\")'], 'Out': {}, 'get_ipython': <bound method InteractiveShell.get_ipython of <ipykernel.zmqshell.ZMQInteractiveShell object at 0x000002059DC0D840>>, 'exit': <IPython.core.autocall.ZMQExitAutocall object at 0x000002059D8CF490>, 'quit': <IPython.core.autocall.ZMQExitAutocall object at 0x000002059D8CF490>, 'open': <function open at 0x000002059AF86200>, '_': '', '__': '', '___': '', '_i': 'PM.ct.create_current_injection(randomize=False)', '_ii': 'anat_file_fullpath_out , phys_file_fullpath_out = PM.prepare_csvs_for_simulation()', '_iii': 'PM = ProjectManager(\\n    path=experiment_path,\\n    input_folder=\"../in\",\\n    output_folder=\"Comrad_sinewave\",\\n    matlab_workspace_file=\"matlab_workspace_SingleSpike.mat\",\\n    conn_skeleton_file_in=\"\",\\n    conn_file_out=\"\",\\n    input_filename=\"input_quadratic_three_units_2s_SingleSpike.mat\",\\n    NG_name=\"NG3_L4_SS_L4\",\\n    t_idx_start=2000,\\n    t_idx_end=-2000,\\n    project=project,\\n    experiment=experiment,\\n    startpoint_csv_folder=\"startpoint_csvs/LIF\",\\n)', '_i1': \"# Visualization\\nimport matplotlib.pyplot as plt\\n\\n# Builtin\\nfrom pathlib import Path\\nimport sys\\nimport subprocess\\nimport os\\nimport pdb\\n\\n# Add repo path to system path for additional imports. \\n# Note the relative depth from this notebook to system repo\\n# in case you want to move this file\\n\\nnb_path = str(Path(os.path.abspath('')).parent.parent)\\nsys.path.insert(0, nb_path)\\nprint(f'Added {nb_path} to system path')\\n\\n# This computer git repos\\nfrom project.project_manager_module import ProjectManager\", 'plt': <module 'matplotlib.pyplot' from 'C:\\\\Users\\\\Simo\\\\Laskenta\\\\Git_Repos\\\\SandBox\\\\FCN2\\\\lib\\\\site-packages\\\\matplotlib\\\\pyplot.py'>, 'Path': <class 'pathlib.Path'>, 'sys': <module 'sys' (built-in)>, 'subprocess': <module 'subprocess' from 'C:\\\\Program Files\\\\WindowsApps\\\\PythonSoftwareFoundation.Python.3.10_3.10.2544.0_x64__qbz5n2kfra8p0\\\\lib\\\\subprocess.py'>, 'os': <module 'os' from 'C:\\\\Program Files\\\\WindowsApps\\\\PythonSoftwareFoundation.Python.3.10_3.10.2544.0_x64__qbz5n2kfra8p0\\\\lib\\\\os.py'>, 'pdb': <module 'pdb' from 'C:\\\\Program Files\\\\WindowsApps\\\\PythonSoftwareFoundation.Python.3.10_3.10.2544.0_x64__qbz5n2kfra8p0\\\\lib\\\\pdb.py'>, 'nb_path': 'C:\\\\Users\\\\Simo\\\\Laskenta\\\\Git_Repos\\\\SystemTools', 'ProjectManager': <class 'project.project_manager_module.ProjectManager'>, '_i2': '#root_path = r\"/opt2/Git_Repos/SystemTools/scripts/\"\\nroot_path = r\"C:\\\\Users\\\\Simo\\\\Laskenta\\\\Git_Repos\\\\SystemTools\\\\scripts/\"', 'root_path': 'C:\\\\Users\\\\Simo\\\\Laskenta\\\\Git_Repos\\\\SystemTools\\\\scripts/', '_i3': 'project = \"FCN22\"  \\nexperiment = \"Figure1B\"  \\nexperiment_path = Path.joinpath(Path(root_path), Path(project), experiment)', 'project': 'FCN22', 'experiment': 'Figure1B', 'experiment_path': WindowsPath('C:/Users/Simo/Laskenta/Git_Repos/SystemTools/scripts/FCN22/Figure1B'), '_i4': 'PM = ProjectManager(\\n    path=experiment_path,\\n    input_folder=\"../in\",\\n    output_folder=\"Comrad_sinewave\",\\n    matlab_workspace_file=\"matlab_workspace_SingleSpike.mat\",\\n    conn_skeleton_file_in=\"\",\\n    conn_file_out=\"\",\\n    input_filename=\"input_quadratic_three_units_2s_SingleSpike.mat\",\\n    NG_name=\"NG3_L4_SS_L4\",\\n    t_idx_start=2000,\\n    t_idx_end=-2000,\\n    project=project,\\n    experiment=experiment,\\n    startpoint_csv_folder=\"startpoint_csvs/LIF\",\\n)', 'PM': <project.project_manager_module.ProjectManager object at 0x000002059DC6FC70>, '_i5': 'anat_file_fullpath_out , phys_file_fullpath_out = PM.prepare_csvs_for_simulation()', 'anat_file_fullpath_out': WindowsPath('C:/Users/Simo/Laskenta/Git_Repos/SystemTools/scripts/FCN22/Figure1B/Anat_Comrad_221122_sinewave.csv'), 'phys_file_fullpath_out': WindowsPath('C:/Users/Simo/Laskenta/Git_Repos/SystemTools/scripts/FCN22/Figure1B/Phys_Comrad_221122_sinewave.csv'), '_i6': 'PM.ct.create_current_injection(randomize=False)', '_i7': 'command_and_args = [\"cxsystem2\", \"-a\", str(anat_file_fullpath_out), \"-p\", str(phys_file_fullpath_out)]\\npdb.set_trace()\\nsubprocess.run(command_and_args, text=True, encoding=\"utf-8\")', 'command_and_args': ['cxsystem2', '-a', 'C:\\\\Users\\\\Simo\\\\Laskenta\\\\Git_Repos\\\\SystemTools\\\\scripts\\\\FCN22\\\\Figure1B\\\\Anat_Comrad_221122_sinewave.csv', '-p', 'C:\\\\Users\\\\Simo\\\\Laskenta\\\\Git_Repos\\\\SystemTools\\\\scripts\\\\FCN22\\\\Figure1B\\\\Phys_Comrad_221122_sinewave.csv'], '__return__': None}\n"
     ]
    }
   ],
   "source": [
    "command_and_args = [\"cxsystem2\", \"-a\", str(anat_file_fullpath_out), \"-p\", str(phys_file_fullpath_out)]\n",
    "pdb.set_trace()\n",
    "subprocess.run(command_and_args, text=True, encoding=\"utf-8\")"
   ]
  },
  {
   "cell_type": "markdown",
   "id": "078c7fb5-b9e0-4dc8-9c1c-591df47f95eb",
   "metadata": {},
   "source": [
    "### Analyze and visualize the results for single files"
   ]
  },
  {
   "cell_type": "markdown",
   "id": "d0e0f8c1-0ab3-4c7b-9055-7cef0e60ba50",
   "metadata": {},
   "source": [
    "#### Show input and data. \n",
    "If  file_to_display = None, the function selects the most recent data file in output_folder.\n"
   ]
  },
  {
   "cell_type": "code",
   "execution_count": null,
   "id": "6f6fae18-f33b-4a37-90e4-59a2c2561a8b",
   "metadata": {
    "jupyter": {
     "source_hidden": true
    },
    "tags": []
   },
   "outputs": [],
   "source": [
    "# file_to_display = r\"[your/full/path/to/datafile].gz\"  \n",
    "file_to_display = None # Most recent\n",
    "\n",
    "PM.viz.show_readout_on_input(\n",
    "    results_filename=file_to_display, \n",
    "    normalize=False, \n",
    "    unit_idx_list=[0], \n",
    "    savefigname=\"\" # Give a name, such as 'Fig1B.eps' to save the figure\n",
    ")"
   ]
  }
 ],
 "metadata": {
  "kernelspec": {
   "display_name": "Python 3 (ipykernel)",
   "language": "python",
   "name": "python3"
  },
  "language_info": {
   "codemirror_mode": {
    "name": "ipython",
    "version": 3
   },
   "file_extension": ".py",
   "mimetype": "text/x-python",
   "name": "python",
   "nbconvert_exporter": "python",
   "pygments_lexer": "ipython3",
   "version": "3.10.9"
  }
 },
 "nbformat": 4,
 "nbformat_minor": 5
}
