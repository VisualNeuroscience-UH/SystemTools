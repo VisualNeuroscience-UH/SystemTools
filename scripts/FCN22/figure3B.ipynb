{
 "cells": [
  {
   "cell_type": "markdown",
   "id": "2b3501fd-d556-4485-bcc3-214b14c08fed",
   "metadata": {},
   "source": [
    "#### Imports"
   ]
  },
  {
   "cell_type": "code",
   "execution_count": 1,
   "id": "86f04be2-e58e-4d1b-9d14-4c864df839f6",
   "metadata": {
    "jupyter": {
     "source_hidden": true
    },
    "tags": []
   },
   "outputs": [
    {
     "name": "stdout",
     "output_type": "stream",
     "text": [
      "Added C:\\Users\\Simo\\Laskenta\\Git_Repos\\SystemTools to system path\n"
     ]
    }
   ],
   "source": [
    "# Visualization\n",
    "import matplotlib.pyplot as plt\n",
    "\n",
    "# Builtin\n",
    "from pathlib import Path\n",
    "import sys\n",
    "from math import nan\n",
    "from itertools import islice\n",
    "import subprocess\n",
    "import shutil\n",
    "import os\n",
    "import pdb\n",
    "\n",
    "\n",
    "# Add repo path to system path for additional imports. \n",
    "# Note the relative depth from this notebook to system repo\n",
    "# in case you want to move this file\n",
    "\n",
    "nb_path = str(Path(os.path.abspath(\"\")).parent.parent)\n",
    "sys.path.insert(0, nb_path)\n",
    "print(f\"Added {nb_path} to system path\")\n",
    "\n",
    "# This computer git repos\n",
    "from project.project_manager_module import ProjectManager\n",
    "import cxsystem2.neurodynlib as nd\n",
    "from brian2.units import *"
   ]
  },
  {
   "cell_type": "markdown",
   "id": "38b960b9-5c63-47e7-ac78-37babaab0a59",
   "metadata": {},
   "source": [
    "#### Build paths\n",
    "<font color=red>**Set the root_path**</font>"
   ]
  },
  {
   "cell_type": "code",
   "execution_count": 2,
   "id": "ecb42606-ebd2-443f-b892-dfb5f5ee8bb2",
   "metadata": {},
   "outputs": [],
   "source": [
    "#root_path = r\"/opt2/Git_Repos/SystemTools/scripts/\"\n",
    "root_path = r\"C:\\Users\\Simo\\Laskenta\\Git_Repos\\SystemTools\\scripts/\""
   ]
  },
  {
   "cell_type": "code",
   "execution_count": 3,
   "id": "7c8bbacf-cf3b-4c41-84ed-b945004d20f6",
   "metadata": {},
   "outputs": [],
   "source": [
    "project = \"FCN22\"  \n",
    "experiment = \"Figure3B\"  \n",
    "experiment_path = Path.joinpath(Path(root_path), Path(project), experiment)"
   ]
  },
  {
   "cell_type": "markdown",
   "id": "e414500b-113d-4cfc-82a2-d8e0b235ec78",
   "metadata": {},
   "source": [
    "#### Input context"
   ]
  },
  {
   "cell_type": "code",
   "execution_count": 4,
   "id": "3b5104da-92be-473d-a963-fd3812c6c8ed",
   "metadata": {
    "jupyter": {
     "source_hidden": true
    },
    "tags": []
   },
   "outputs": [],
   "source": [
    "input_folder = \"../in\" # Relative to experiment path\n",
    "matlab_workspace_file = \"matlab_workspace_SingleSpike.mat\"\n",
    "conn_skeleton_file_in = \"Replica_skeleton_connections_20210211_1453238_L4_SS.gz\"\n",
    "conn_file_out = \"connections_SingleSpike_ci.gz\"\n",
    "input_filename = \"noise_210916_SingleSpike_00.mat\"  # \"noise_210406_SingleSpike.mat\" \n",
    "startpoint_csv_folder = \"startpoint_csvs/LIF\""
   ]
  },
  {
   "cell_type": "markdown",
   "id": "b4a1aa76-ec04-471e-85fc-8250ec0f376e",
   "metadata": {},
   "source": [
    "#### Data context for single files and arrays \n",
    "These startpoint and parameter strings are used only in this module.\n",
    "The output_folder will be created under experiment"
   ]
  },
  {
   "cell_type": "code",
   "execution_count": 5,
   "id": "92d0a504-2d6a-4f9b-a492-39aa34c631d0",
   "metadata": {},
   "outputs": [],
   "source": [
    "current_data = \"Comrad_C180C70\" # Current data becomes the output folder under experiment"
   ]
  },
  {
   "cell_type": "markdown",
   "id": "bd692bff-e31c-4570-80cc-acda5c536d6f",
   "metadata": {},
   "source": [
    "#### Call project manager\n",
    "Code complexity is hidden behind the ProjectManager"
   ]
  },
  {
   "cell_type": "code",
   "execution_count": 6,
   "id": "e96fe18a-9597-4bae-97f8-a2da1e631d57",
   "metadata": {
    "jupyter": {
     "source_hidden": true
    },
    "tags": []
   },
   "outputs": [],
   "source": [
    "PM = ProjectManager(\n",
    "    path=experiment_path,\n",
    "    input_folder=input_folder,\n",
    "    output_folder=current_data,\n",
    "    matlab_workspace_file=matlab_workspace_file,\n",
    "    conn_skeleton_file_in=conn_skeleton_file_in,\n",
    "    conn_file_out=conn_file_out,\n",
    "    input_filename=input_filename,\n",
    "    NG_name=\"NG3_L4_SS_L4\",\n",
    "    t_idx_start=2000,\n",
    "    t_idx_end=-2000,\n",
    "    project=project,\n",
    "    experiment=experiment,\n",
    "    startpoint_csv_folder=startpoint_csv_folder,\n",
    ")"
   ]
  },
  {
   "cell_type": "markdown",
   "id": "d7d036c9-6371-41a9-9636-487e1297dba1",
   "metadata": {},
   "source": [
    "#### Prepare and run single file: Comrad example"
   ]
  },
  {
   "cell_type": "code",
   "execution_count": null,
   "id": "ccdd97f2-0128-41cc-af6c-653154729a81",
   "metadata": {
    "jupyter": {
     "source_hidden": true
    },
    "tags": []
   },
   "outputs": [
    {
     "name": "stdout",
     "output_type": "stream",
     "text": [
      "Loaded file C:\\Users\\Simo\\Laskenta\\Git_Repos\\SystemTools\\scripts\\FCN22\\Figure3B\\..\\in\\matlab_workspace_SingleSpike.mat\n",
      "Loaded file C:\\Users\\Simo\\Laskenta\\Git_Repos\\SystemTools\\scripts\\FCN22\\Figure3B\\..\\in\\noise_210916_SingleSpike_00.mat\n"
     ]
    }
   ],
   "source": [
    "# Copy Anat and Phys csv files from start point folder to path and update paths into the csv:s\n",
    "anat_file_fullpath_out , phys_file_fullpath_out = PM.prepare_csvs_for_simulation(phys_name=\"Phys_Comrad_221122_C180C70.csv\")\n",
    "\n",
    "# Create necessary current injection files\n",
    "PM.ct.create_current_injection(randomize=False)\n",
    "\n",
    "# Run CxSystem2 for single file. Remove the stdout=subprocess.DEVNULL to see simulation output\n",
    "command_and_args = [\"cxsystem2\", \"-a\", str(anat_file_fullpath_out), \"-p\", str(phys_file_fullpath_out)]\n",
    "subprocess.run(command_and_args, text=True, encoding=\"utf-8\", stdout=subprocess.DEVNULL)"
   ]
  },
  {
   "cell_type": "markdown",
   "id": "0fd59834-41ec-47d9-8219-7b04cc6b778a",
   "metadata": {
    "tags": []
   },
   "source": [
    "### Figure 3 B @Comrad"
   ]
  },
  {
   "cell_type": "code",
   "execution_count": null,
   "id": "ea9d743e-1585-40cb-aefc-203351e9547c",
   "metadata": {},
   "outputs": [],
   "source": [
    "# file_to_display = r\"[your/full/path/to/datafile].gz\"  \n",
    "file_to_display = None # Most recent"
   ]
  },
  {
   "cell_type": "code",
   "execution_count": null,
   "id": "56ed5c8e-f79a-4610-b8c4-1c51f0a13b1f",
   "metadata": {},
   "outputs": [],
   "source": [
    "PM.viz.save_figure_with_arrayidentifier = f\"Fig3B_Comrad\""
   ]
  },
  {
   "cell_type": "code",
   "execution_count": null,
   "id": "3d17ff8a-4062-4e36-863f-6df77e54d221",
   "metadata": {
    "tags": []
   },
   "outputs": [],
   "source": [
    "plt.rcParams[\"figure.figsize\"] = (4, 6)\n",
    "PM.viz.show_readout_on_input(results_filename=file_to_display, normalize=False, unit_idx_list=[0], savefigname=\"\")\n",
    "plt.xlim((0.2, 0.6))"
   ]
  },
  {
   "cell_type": "code",
   "execution_count": null,
   "id": "fd0cb3a4-6df9-4a74-8b3b-d0e71cbf7f2b",
   "metadata": {},
   "outputs": [],
   "source": [
    "plt.rcParams[\"figure.figsize\"] = (16, 12)\n",
    "PM.viz.show_input_to_readout_coherence(\n",
    "    results_filename=file_to_display, savefigname=\"\", signal_pair=[0, 0]\n",
    ")\n",
    "plt.xlim((2000, 6000))"
   ]
  },
  {
   "cell_type": "markdown",
   "id": "660fbd75-79e4-4410-bfba-0f872c64e8d4",
   "metadata": {
    "tags": []
   },
   "source": [
    "#### Prepare and run single file: HiFi example"
   ]
  },
  {
   "cell_type": "code",
   "execution_count": null,
   "id": "13d62460-360a-4dc7-89f8-adc6a67d9418",
   "metadata": {},
   "outputs": [],
   "source": [
    "current_data = \"HiFi_C180C70\""
   ]
  },
  {
   "cell_type": "code",
   "execution_count": null,
   "id": "e8ae5791-22b3-428d-bed4-64f8fe13c0ee",
   "metadata": {
    "jupyter": {
     "source_hidden": true
    },
    "tags": []
   },
   "outputs": [],
   "source": [
    "PM.context.output_folder = experiment_path.joinpath(current_data)"
   ]
  },
  {
   "cell_type": "code",
   "execution_count": null,
   "id": "c458e2ad-31de-4423-a5f1-47786f91e9a4",
   "metadata": {
    "jupyter": {
     "source_hidden": true
    },
    "tags": []
   },
   "outputs": [],
   "source": [
    "# Copy Anat and Phys csv files from start point folder to path and update paths into the csv:s\n",
    "anat_file_fullpath_out , phys_file_fullpath_out = PM.prepare_csvs_for_simulation(phys_name=\"Phys_HiFi_221122_C180C70.csv\")\n",
    "\n",
    "# Run CxSystem2 for single file. Remove the stdout=subprocess.DEVNULL to see simulation output\n",
    "command_and_args = [\"cxsystem2\", \"-a\", str(anat_file_fullpath_out), \"-p\", str(phys_file_fullpath_out)]\n",
    "subprocess.run(command_and_args, text=True, encoding=\"utf-8\", stdout=subprocess.DEVNULL)"
   ]
  },
  {
   "cell_type": "markdown",
   "id": "3ce257da-e67f-4e01-a02d-8c80c60b514b",
   "metadata": {
    "tags": []
   },
   "source": [
    "### Figure 3 B @HiFi"
   ]
  },
  {
   "cell_type": "code",
   "execution_count": null,
   "id": "f9e11d91-6b1d-4527-93b0-0756fea8ea3e",
   "metadata": {},
   "outputs": [],
   "source": [
    "# file_to_display = r\"[your/full/path/to/datafile].gz\"  \n",
    "file_to_display = None # Most recent"
   ]
  },
  {
   "cell_type": "code",
   "execution_count": null,
   "id": "876563b2-4e3d-49e3-853f-33f0003ffdaf",
   "metadata": {},
   "outputs": [],
   "source": [
    "PM.viz.save_figure_with_arrayidentifier = f\"Fig3B_HiFi\""
   ]
  },
  {
   "cell_type": "code",
   "execution_count": null,
   "id": "5b3bc1c3-89b9-4d6b-8c34-a7b7334ae821",
   "metadata": {},
   "outputs": [],
   "source": [
    "plt.rcParams[\"figure.figsize\"] = (4, 6)\n",
    "PM.viz.show_readout_on_input(results_filename=file_to_display, normalize=False, unit_idx_list=[0], savefigname=\"\")\n",
    "plt.xlim((0.2, 0.6))"
   ]
  },
  {
   "cell_type": "code",
   "execution_count": null,
   "id": "16ebbd45-410e-45fb-bc89-a0116e6a5924",
   "metadata": {},
   "outputs": [],
   "source": [
    "plt.rcParams[\"figure.figsize\"] = (16, 12)\n",
    "PM.viz.show_input_to_readout_coherence(\n",
    "    results_filename=file_to_display, savefigname=\"\", signal_pair=[0, 0]\n",
    ")\n",
    "plt.xlim((2000, 6000))"
   ]
  }
 ],
 "metadata": {
  "kernelspec": {
   "display_name": "Python 3 (ipykernel)",
   "language": "python",
   "name": "python3"
  },
  "language_info": {
   "codemirror_mode": {
    "name": "ipython",
    "version": 3
   },
   "file_extension": ".py",
   "mimetype": "text/x-python",
   "name": "python",
   "nbconvert_exporter": "python",
   "pygments_lexer": "ipython3",
   "version": "3.10.8"
  }
 },
 "nbformat": 4,
 "nbformat_minor": 5
}
