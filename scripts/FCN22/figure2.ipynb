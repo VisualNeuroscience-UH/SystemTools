{
 "cells": [
  {
   "cell_type": "markdown",
   "id": "2b3501fd-d556-4485-bcc3-214b14c08fed",
   "metadata": {},
   "source": [
    "#### Imports"
   ]
  },
  {
   "cell_type": "code",
   "execution_count": 1,
   "id": "86f04be2-e58e-4d1b-9d14-4c864df839f6",
   "metadata": {},
   "outputs": [
    {
     "name": "stdout",
     "output_type": "stream",
     "text": [
      "Added C:\\Users\\Simo\\Laskenta\\Git_Repos\\SystemTools to system path\n"
     ]
    }
   ],
   "source": [
    "# Visualization\n",
    "import matplotlib.pyplot as plt\n",
    "\n",
    "# Builtin\n",
    "from pathlib import Path\n",
    "import sys\n",
    "import os\n",
    "import pdb\n",
    "\n",
    "\n",
    "# Add repo path to system path for additional imports. \n",
    "# Note the relative depth from this notebook to system repo\n",
    "# in case you want to move this file\n",
    "\n",
    "nb_path = str(Path(os.path.abspath('')).parent.parent)\n",
    "sys.path.insert(0, nb_path)\n",
    "print(f'Added {nb_path} to system path')\n",
    "\n",
    "# This computer git repos\n",
    "from project.project_manager_module import ProjectManager"
   ]
  },
  {
   "cell_type": "markdown",
   "id": "afa393cc-b74c-4377-9076-35507311bdcc",
   "metadata": {},
   "source": [
    "#### Build paths\n",
    "<font color=#FF0000>**Set the root_path**</font>"
   ]
  },
  {
   "cell_type": "code",
   "execution_count": 2,
   "id": "cf059df6-b2e7-456c-a111-cd366084c982",
   "metadata": {},
   "outputs": [],
   "source": [
    "#root_path = r\"/opt2/Git_Repos/SystemTools/scripts/\"\n",
    "root_path = r\"C:\\Users\\Simo\\Laskenta\\Git_Repos\\SystemTools\\scripts\""
   ]
  },
  {
   "cell_type": "code",
   "execution_count": 3,
   "id": "f14d7e97-a8f9-4a07-85ed-fbb29e04f56b",
   "metadata": {},
   "outputs": [],
   "source": [
    "project = \"FCN22\"  \n",
    "experiment = \"Figure2\"  \n",
    "experiment_path = Path.joinpath(Path(root_path), Path(project), experiment)"
   ]
  },
  {
   "cell_type": "markdown",
   "id": "b4a1aa76-ec04-471e-85fc-8250ec0f376e",
   "metadata": {},
   "source": [
    "#### Data context for multiple analyzes and visualizations"
   ]
  },
  {
   "cell_type": "code",
   "execution_count": 4,
   "id": "55824036-9e48-4ae9-80e6-c6351819f1ea",
   "metadata": {},
   "outputs": [],
   "source": [
    "to_spa_dict = {\n",
    "    \"startpoints\": [\"Comrad\", \"Bacon\"],\n",
    "    \"parameters\": [\"gL\"],\n",
    "    \"analyzes\": [\n",
    "        \"Coherence\",\n",
    "        \"Granger Causality\",\n",
    "        \"Transfer Entropy\",\n",
    "        \"Simulation Error\",\n",
    "        \"Excitatory Firing Rate\",\n",
    "        \"Inhibitory Firing Rate\",\n",
    "    ],\n",
    "}"
   ]
  },
  {
   "cell_type": "markdown",
   "id": "bd692bff-e31c-4570-80cc-acda5c536d6f",
   "metadata": {},
   "source": [
    "#### Call project manager\n",
    "Code complexity is hidden behind the ProjectManager"
   ]
  },
  {
   "cell_type": "code",
   "execution_count": 5,
   "id": "e96fe18a-9597-4bae-97f8-a2da1e631d57",
   "metadata": {
    "jupyter": {
     "source_hidden": true
    },
    "tags": []
   },
   "outputs": [],
   "source": [
    "PM = ProjectManager(\n",
    "    path=experiment_path,\n",
    "    input_folder=\"../in\",\n",
    "    output_folder=\"\",\n",
    "    matlab_workspace_file=\"\",\n",
    "    conn_skeleton_file_in=\"\",\n",
    "    conn_file_out=\"\",\n",
    "    input_filename=\"\",\n",
    "    NG_name=\"NG3_L4_SS_L4\",\n",
    "    t_idx_start=2000,\n",
    "    t_idx_end=-2000,\n",
    "    to_spa_dict=to_spa_dict,\n",
    "    project=project,\n",
    "    experiment=experiment,\n",
    ")"
   ]
  },
  {
   "cell_type": "markdown",
   "id": "5e4d2de3-97a7-4a4d-8731-36baa1e1349b",
   "metadata": {},
   "source": [
    "#### Copy precalculated results to experiment folders"
   ]
  },
  {
   "cell_type": "code",
   "execution_count": 6,
   "id": "45e6424e-049b-4840-b116-8c13aa40e779",
   "metadata": {
    "tags": []
   },
   "outputs": [],
   "source": [
    "input_folder_list = [\n",
    "    \"precalculated_results/Single_narrow_iteration_R1/Comrad_gL_compiled_results\", \n",
    "    \"precalculated_results/Single_narrow_iteration_R1/Bacon_gL_compiled_results\", \n",
    "    \"precalculated_results/Single_narrow_iteration_control_EI_R1/Bacon_gL_compiled_results\", \n",
    "    \"precalculated_results/Single_narrow_iteration_control_ALL_R1/Bacon_gL_compiled_results\"\n",
    "]\n",
    "# These will appear under experiment_path\n",
    "output_folder_list = [\n",
    "    \"Comrad_gL_compiled_results\",\n",
    "    \"Bacon_gL_compiled_results\",\n",
    "    \"Bacon_gL_compiled_results_EI\",\n",
    "    \"Bacon_gL_compiled_results_ALL\",\n",
    "]\n",
    "for this_input, this_output in zip(input_folder_list, output_folder_list):\n",
    "    PM.transfer_precalculated_results(input_folder=this_input, output_folder=this_output)"
   ]
  },
  {
   "cell_type": "markdown",
   "id": "078c7fb5-b9e0-4dc8-9c1c-591df47f95eb",
   "metadata": {},
   "source": [
    "### Vizualize mean of 10 iterations, results precalculated\n",
    "\n",
    "<font color=#FF0000>**Activate each line one-by-one to get the four rows in Figure 2A**</font>"
   ]
  },
  {
   "cell_type": "code",
   "execution_count": 7,
   "id": "13d62460-360a-4dc7-89f8-adc6a67d9418",
   "metadata": {},
   "outputs": [],
   "source": [
    "#current_data = \"Comrad_gL_compiled_results\"\n",
    "#current_data = \"Bacon_gL_compiled_results\"\n",
    "#current_data = \"Bacon_gL_compiled_results_EI\"\n",
    "current_data = \"Bacon_gL_compiled_results_ALL\""
   ]
  },
  {
   "cell_type": "code",
   "execution_count": 8,
   "id": "e8ae5791-22b3-428d-bed4-64f8fe13c0ee",
   "metadata": {},
   "outputs": [],
   "source": [
    "PM.context.output_folder = experiment_path.joinpath(current_data)"
   ]
  },
  {
   "cell_type": "code",
   "execution_count": 9,
   "id": "4e0d59e2-0dd8-4470-bd73-e3deb5374eea",
   "metadata": {},
   "outputs": [],
   "source": [
    "PM.viz.save_figure_with_arrayidentifier = f\"Fig2A_{current_data.replace('_compiled_results','')}\"\n",
    "PM.viz.save_figure_to_folder = f\"Analysis_Figures\""
   ]
  },
  {
   "cell_type": "code",
   "execution_count": 10,
   "id": "e65a8b66-47cb-4598-93b7-c23496b32474",
   "metadata": {
    "tags": []
   },
   "outputs": [],
   "source": [
    "# PM.viz.show_analyzed_arrayrun(\n",
    "#     csv_filename=\"MeanFR_mean.csv\",\n",
    "#     analysis=\"MeanFR\",\n",
    "#     variable_unit=\"Hz\",\n",
    "#     logscale=True,\n",
    "#     annotation_2D=False,\n",
    "#     NG_id_list=['NG1'],\n",
    "# )"
   ]
  },
  {
   "cell_type": "code",
   "execution_count": 11,
   "id": "9740f7bc-619a-4275-ad83-9a87eb7f8e0e",
   "metadata": {
    "tags": []
   },
   "outputs": [],
   "source": [
    "csv_filename = \"Coherence_GrCaus_NormError_TransferEntropy_mean.csv\""
   ]
  },
  {
   "cell_type": "code",
   "execution_count": 12,
   "id": "846238b4-248c-41c9-8fc5-60f5e942744c",
   "metadata": {
    "tags": []
   },
   "outputs": [],
   "source": [
    "# PM.viz.show_analyzed_arrayrun(\n",
    "#         csv_filename=csv_filename,\n",
    "#         analysis=\"Coherence\",\n",
    "#         variable_unit=\"Mean a.u.\",\n",
    "#         annotation_2D=False,\n",
    "#     )"
   ]
  },
  {
   "cell_type": "code",
   "execution_count": 13,
   "id": "a007ab8f-0b81-412e-938e-df295463ea4b",
   "metadata": {
    "tags": []
   },
   "outputs": [],
   "source": [
    "# PM.viz.show_analyzed_arrayrun(\n",
    "#         csv_filename=csv_filename,\n",
    "#         analysis=\"GrCaus\",\n",
    "#         variable_unit=\"bit\",\n",
    "#         annotation_2D=False,\n",
    "#     )"
   ]
  },
  {
   "cell_type": "code",
   "execution_count": 14,
   "id": "13bd440c-ed9b-42ee-ae61-13f2d1e26eac",
   "metadata": {
    "tags": []
   },
   "outputs": [],
   "source": [
    "# PM.viz.show_analyzed_arrayrun(\n",
    "#         csv_filename=csv_filename,\n",
    "#         analysis=\"TransferEntropy\",\n",
    "#         variable_unit=\"bit/time point\",\n",
    "#         annotation_2D=False,\n",
    "#     )"
   ]
  },
  {
   "cell_type": "code",
   "execution_count": 15,
   "id": "9d456853-e8de-4a1e-8eec-4a88f1e95d9c",
   "metadata": {
    "tags": []
   },
   "outputs": [],
   "source": [
    "# PM.viz.show_analyzed_arrayrun(\n",
    "#         csv_filename=csv_filename,\n",
    "#         analysis=\"NormError\",\n",
    "#         variable_unit=\"a.u.\",\n",
    "#         annotation_2D=False,\n",
    "#     )"
   ]
  },
  {
   "cell_type": "code",
   "execution_count": 16,
   "id": "d5990007-a63c-4acb-8881-17640ef088ad",
   "metadata": {},
   "outputs": [],
   "source": [
    "PM.viz.save_figure_with_arrayidentifier = f'Fig2B_category_plot'\n",
    "plt.rcParams['figure.figsize'] = (16, 4)"
   ]
  },
  {
   "cell_type": "markdown",
   "id": "96f3386a-bb3d-412e-aff1-41707acd4d0f",
   "metadata": {},
   "source": [
    "### Figure 2B\n",
    "#### Comparison of information quantities between Comrad, Bacon and the two dataset with randomized connections."
   ]
  },
  {
   "cell_type": "code",
   "execution_count": 17,
   "id": "14679049-9a0a-4ac8-a67c-4a401cec955f",
   "metadata": {
    "tags": []
   },
   "outputs": [
    {
     "ename": "KeyError",
     "evalue": "'divide_by_frequency'",
     "output_type": "error",
     "traceback": [
      "\u001b[1;31m--------------------------------------------------\u001b[0m",
      "\u001b[1;31mKeyError\u001b[0m         Traceback (most recent call last)",
      "Cell \u001b[1;32mIn [17], line 45\u001b[0m\n\u001b[0;32m      1\u001b[0m \u001b[38;5;124;03m\"\"\"\u001b[39;00m\n\u001b[0;32m      2\u001b[0m \u001b[38;5;124;03mDefinitions for parametric plotting of multiple conditions/categories.\u001b[39;00m\n\u001b[0;32m      3\u001b[0m \u001b[38;5;124;03mFirst, define what data is going to be visualized in to_spa_dict above.\u001b[39;00m\n\u001b[1;32m   (...)\u001b[0m\n\u001b[0;32m     21\u001b[0m \u001b[38;5;124;03mThe number of paths MUST be the same as the number of corresponding inner variables. \u001b[39;00m\n\u001b[0;32m     22\u001b[0m \u001b[38;5;124;03m\"\"\"\u001b[39;00m\n\u001b[0;32m     24\u001b[0m param_plot_dict \u001b[38;5;241m=\u001b[39m {\n\u001b[0;32m     25\u001b[0m     \u001b[38;5;124m\"\u001b[39m\u001b[38;5;124mtitle\u001b[39m\u001b[38;5;124m\"\u001b[39m: \u001b[38;5;124m\"\u001b[39m\u001b[38;5;124mparameters\u001b[39m\u001b[38;5;124m\"\u001b[39m, \n\u001b[0;32m     26\u001b[0m     \u001b[38;5;124m\"\u001b[39m\u001b[38;5;124mouter\u001b[39m\u001b[38;5;124m\"\u001b[39m: \u001b[38;5;124m\"\u001b[39m\u001b[38;5;124manalyzes\u001b[39m\u001b[38;5;124m\"\u001b[39m,  \n\u001b[1;32m   (...)\u001b[0m\n\u001b[0;32m     43\u001b[0m     \u001b[38;5;124m\"\u001b[39m\u001b[38;5;124mdisplay_optimal_values\u001b[39m\u001b[38;5;124m\"\u001b[39m: \u001b[38;5;28;01mFalse\u001b[39;00m, \u001b[38;5;66;03m# Cannot be activated without additional options\u001b[39;00m\n\u001b[0;32m     44\u001b[0m }\n\u001b[1;32m---> 45\u001b[0m \u001b[43mPM\u001b[49m\u001b[38;5;241;43m.\u001b[39;49m\u001b[43mviz\u001b[49m\u001b[38;5;241;43m.\u001b[39;49m\u001b[43mshow_catplot\u001b[49m\u001b[43m(\u001b[49m\u001b[43mparam_plot_dict\u001b[49m\u001b[43m)\u001b[49m\n",
      "File \u001b[1;32m~\\Laskenta\\Git_Repos\\SystemTools\\viz\\viz_module.py:1725\u001b[0m, in \u001b[0;36mViz.show_catplot\u001b[1;34m(self, param_plot_dict)\u001b[0m\n\u001b[0;32m   1721\u001b[0m     optimal_df\u001b[38;5;241m.\u001b[39mset_index(optimal_df\u001b[38;5;241m.\u001b[39mcolumns[\u001b[38;5;241m0\u001b[39m], inplace\u001b[38;5;241m=\u001b[39m\u001b[38;5;28;01mTrue\u001b[39;00m)\n\u001b[0;32m   1723\u001b[0m fig, [axs] \u001b[38;5;241m=\u001b[39m plt\u001b[38;5;241m.\u001b[39msubplots(\u001b[38;5;241m1\u001b[39m, \u001b[38;5;28mlen\u001b[39m(data_list), sharey\u001b[38;5;241m=\u001b[39msharey, squeeze\u001b[38;5;241m=\u001b[39m\u001b[38;5;28;01mFalse\u001b[39;00m)\n\u001b[1;32m-> 1725\u001b[0m \u001b[38;5;28;01mif\u001b[39;00m \u001b[43mparam_plot_dict\u001b[49m\u001b[43m[\u001b[49m\u001b[38;5;124;43m\"\u001b[39;49m\u001b[38;5;124;43mdivide_by_frequency\u001b[39;49m\u001b[38;5;124;43m\"\u001b[39;49m\u001b[43m]\u001b[49m \u001b[38;5;129;01mis\u001b[39;00m \u001b[38;5;28;01mTrue\u001b[39;00m:\n\u001b[0;32m   1726\u001b[0m     \u001b[38;5;66;03m# Divide by frequency\u001b[39;00m\n\u001b[0;32m   1728\u001b[0m     frequency_names_list \u001b[38;5;241m=\u001b[39m [\n\u001b[0;32m   1729\u001b[0m         \u001b[38;5;124m\"\u001b[39m\u001b[38;5;124mExcitatory Firing Rate\u001b[39m\u001b[38;5;124m\"\u001b[39m,\n\u001b[0;32m   1730\u001b[0m         \u001b[38;5;124m\"\u001b[39m\u001b[38;5;124mInhibitory Firing Rate\u001b[39m\u001b[38;5;124m\"\u001b[39m,\n\u001b[0;32m   1731\u001b[0m     ]\n\u001b[0;32m   1733\u001b[0m     \u001b[38;5;66;03m# Get the index of the frequency names\u001b[39;00m\n\u001b[0;32m   1734\u001b[0m     \u001b[38;5;66;03m# pdb.set_trace()\u001b[39;00m\n",
      "\u001b[1;31mKeyError\u001b[0m: 'divide_by_frequency'"
     ]
    },
    {
     "data": {
      "image/png": "[encoded data removed]",
      "text/plain": [
       "<Figure size 1600x400 with 6 Axes>"
      ]
     },
     "metadata": {},
     "output_type": "display_data"
    }
   ],
   "source": [
    "\"\"\"\n",
    "Definitions for parametric plotting of multiple conditions/categories.\n",
    "First, define what data is going to be visualized in to_spa_dict above.\n",
    "Second, define how it is visualized in param_plot_dict below.\n",
    "\n",
    "Limitations: \n",
    "    You cannot have analyzes as title AND inner_sub = True.\n",
    "\n",
    "outer : panel (distinct subplots) # analyzes, startpoints, parameters, controls\n",
    "inner : inside one axis (subplot) # startpoints, parameters, controls\n",
    "inner_sub : bool, further subdivision by value, such as mean firing rate\n",
    "inner_sub_ana : name of ana. This MUST be included into to_spa_dict \"analyzes\"\n",
    "plot_type : parametric plot type \n",
    "\n",
    "compiled_results : bool, data at compiled_results folder, mean over iterations\n",
    "\n",
    "inner_paths : bool, Provide comparison from arbitrary paths, e.g. controls. The 'inner' is ignored.\n",
    "inner_path_names: list of names of paths to compare.\n",
    "paths : provide list of tuples of full path parts to data folder. \n",
    "E.g. [(path, 'Single_narrow_iterations_control', 'Bacon_gL_compiled_results'),] \n",
    "The number of paths MUST be the same as the number of corresponding inner variables. \n",
    "\"\"\"\n",
    "\n",
    "param_plot_dict = {\n",
    "    \"title\": \"parameters\", \n",
    "    \"outer\": \"analyzes\",  \n",
    "    \"inner\": \"startpoints\",  # If \"inner_paths\" is True, this 'inner' is ignored \n",
    "    \"inner_sub\": False,  # Cannot be activated without additional options\n",
    "    \"plot_type\": \"box\",  # \"violin\" (2), \"box\", \"strip\", \"swarm\", \"boxen\", \"point\", \"bar\"\n",
    "    \"compiled_results\": True, \n",
    "    \"sharey\": False,\n",
    "    \"palette\": \"Greys\",\n",
    "    \"inner_paths\": True,\n",
    "    \"inner_path_names\": [\"Comrad\", \"Bacon\", \"Random_EI\", \"Random_all\"],\n",
    "    \"paths\": [\n",
    "        (experiment_path, 'Comrad_gL_compiled_results'),\n",
    "        (experiment_path, 'Bacon_gL_compiled_results'),\n",
    "        (experiment_path, 'Bacon_gL_compiled_results_EI'),\n",
    "        (experiment_path, 'Bacon_gL_compiled_results_ALL'),\n",
    "        ],\n",
    "    \"inner_stat_test\": False,\n",
    "    \"divide_by_frequency\": False\n",
    "    \"save_description\": False, # Cannot be activated without additional options\n",
    "    \"display_optimal_values\": False, # Cannot be activated without additional options\n",
    "}\n",
    "PM.viz.show_catplot(param_plot_dict)"
   ]
  },
  {
   "cell_type": "code",
   "execution_count": null,
   "id": "2a8682a5-6db1-4f41-b836-6c7a1f1954bd",
   "metadata": {},
   "outputs": [],
   "source": []
  },
  {
   "cell_type": "code",
   "execution_count": null,
   "id": "dec4dba9-d882-426e-b32e-068588141678",
   "metadata": {},
   "outputs": [],
   "source": []
  }
 ],
 "metadata": {
  "kernelspec": {
   "display_name": "Python 3 (ipykernel)",
   "language": "python",
   "name": "python3"
  },
  "language_info": {
   "codemirror_mode": {
    "name": "ipython",
    "version": 3
   },
   "file_extension": ".py",
   "mimetype": "text/x-python",
   "name": "python",
   "nbconvert_exporter": "python",
   "pygments_lexer": "ipython3",
   "version": "3.10.8"
  },
  "vscode": {
   "interpreter": {
    "hash": "192b6443d5abc0cd6c6293a197767677c0bb4c72e7a9fb0f19f8d0d11736a74f"
   }
  }
 },
 "nbformat": 4,
 "nbformat_minor": 5
}
